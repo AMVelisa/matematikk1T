{
 "cells": [
  {
   "cell_type": "markdown",
   "metadata": {
    "colab_type": "text",
    "id": "KCuk-IHZaSFn"
   },
   "source": [
    "### Oppgave 1\n",
    "Tegn de rette linjene ved å bruke funksjoner i python.\n",
    "\n",
    "a) $\\ f(x)=-2\\cdot x+1 $\n",
    "\n",
    "b) $\\  g(x)=\\frac3 2 \\cdot x+1$ \n",
    " \n"
   ]
  },
  {
   "cell_type": "code",
   "execution_count": null,
   "metadata": {
    "colab": {},
    "colab_type": "code",
    "id": "V8Az4_2ubWyp"
   },
   "outputs": [],
   "source": [
    "#Din kode her"
   ]
  },
  {
   "cell_type": "markdown",
   "metadata": {
    "colab_type": "text",
    "id": "GfKmD2PcbaRW"
   },
   "source": [
    "### Oppgave 2\n",
    "Tegn parablene i samme plot. Bruk funksjoner. Husk å ta med aksetitler.\n",
    "\n",
    " a)$\\ f(x)=x^2+3\\cdot x-4 $\n",
    " \n",
    " b)$\\ g(x)=-x^2+5\\cdot x+2$"
   ]
  },
  {
   "cell_type": "code",
   "execution_count": null,
   "metadata": {
    "colab": {},
    "colab_type": "code",
    "id": "zYEXuBmhe2Mx"
   },
   "outputs": [],
   "source": [
    "#Din kode her"
   ]
  },
  {
   "cell_type": "markdown",
   "metadata": {
    "colab_type": "text",
    "id": "JAqieimPdrxZ"
   },
   "source": [
    "### Oppgave 2.1\n",
    "Undersøk om funksjonene i forrige oppg har heltallige løsninger. Dersom de har heltallige løsninger skal du prøve å lage et program som gir ut røttene som heltall. Hint int. "
   ]
  },
  {
   "cell_type": "code",
   "execution_count": null,
   "metadata": {
    "colab": {},
    "colab_type": "code",
    "id": "tTptaEJUe7b5"
   },
   "outputs": [],
   "source": [
    "#Din kode her"
   ]
  },
  {
   "cell_type": "markdown",
   "metadata": {
    "colab_type": "text",
    "id": "T8554ibdgEXa"
   },
   "source": [
    "### Oppgave 2.2\n",
    "Tegn funksjonene \n",
    "\n",
    "a) $\\ f(x)=\\lg(x)+3\\cdot x-4 , \\ x \\in \\langle0,5 \\rangle$\n",
    "\n",
    "b) $\\ g(x)=(\\lg(x))^2+3\\cdot \\lg(x)-4,\\ x>0$"
   ]
  },
  {
   "cell_type": "code",
   "execution_count": null,
   "metadata": {
    "colab": {},
    "colab_type": "code",
    "id": "DWWcE4izioNX"
   },
   "outputs": [],
   "source": [
    "#Din kode her"
   ]
  }
 ],
 "metadata": {
  "colab": {
   "collapsed_sections": [],
   "name": "Øving 5 Plotting.ipynb",
   "provenance": [
    {
     "file_id": "1JDUdHEYpi9xNUHTM_x9ouzbrhYfmvFtv",
     "timestamp": 1589367645021
    }
   ]
  },
  "kernelspec": {
   "display_name": "Python 3",
   "language": "python",
   "name": "python3"
  },
  "language_info": {
   "codemirror_mode": {
    "name": "ipython",
    "version": 3
   },
   "file_extension": ".py",
   "mimetype": "text/x-python",
   "name": "python",
   "nbconvert_exporter": "python",
   "pygments_lexer": "ipython3",
   "version": "3.8.3"
  }
 },
 "nbformat": 4,
 "nbformat_minor": 1
}
