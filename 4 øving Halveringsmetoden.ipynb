{
 "cells": [
  {
   "cell_type": "markdown",
   "metadata": {
    "colab_type": "text",
    "id": "4nl53FZWriGy"
   },
   "source": [
    "### Oppgave 1\n",
    "Bruk halveringsmetoden for å finne nullpunktet til de rette linjene:\n",
    "\n",
    " $ a)\\ f(x)=-2\\cdot x+1 \\\\ b)\\  g(x)=\\frac{150}{7} \\cdot x+1 \\\\c)\\ h(x)=g(x)-f(x)$ "
   ]
  },
  {
   "cell_type": "code",
   "execution_count": null,
   "metadata": {
    "colab": {},
    "colab_type": "code",
    "id": "C0uALW7or16W"
   },
   "outputs": [],
   "source": [
    "#Ditt svar"
   ]
  },
  {
   "cell_type": "markdown",
   "metadata": {
    "colab_type": "text",
    "id": "UsitoKv0rthg"
   },
   "source": [
    "### Oppgave 2\n",
    "Bruk halveringsmetoden for å finne nullpunkt(er) til funksjonene\n",
    "\n",
    "$ a)\\ i(x)=2\\cdot \\lg(x)-2\\cdot x+3 \\\\ b)\\  j(x)=\\frac{3}{2} \\cdot (\\lg(2x))^2-1 \\\\c)\\ k(x)=i(x)-j(x)$ \n",
    " \n"
   ]
  },
  {
   "cell_type": "code",
   "execution_count": null,
   "metadata": {
    "colab": {},
    "colab_type": "code",
    "id": "wI55Nn-7r50E"
   },
   "outputs": [],
   "source": [
    "#Ditt svar"
   ]
  },
  {
   "cell_type": "markdown",
   "metadata": {
    "colab_type": "text",
    "id": "lEE0EIq1rvRE"
   },
   "source": [
    "### Oppgave 3\n",
    "Bruk halveringsmetoden for å finne *alle* nullpunktene til funksjonene:\n",
    "\n",
    " $ a)\\ i(x)=-2\\cdot \\cos(x)+1,\\ x\\in\\langle 1,8 \\rangle \\\\ b)\\  j(x)=\\frac3 2 \\cdot \\sin^2(x)-0.5 ,\\ x\\in\\langle -4,4 \\rangle$ \n",
    " "
   ]
  },
  {
   "cell_type": "code",
   "execution_count": null,
   "metadata": {
    "colab": {},
    "colab_type": "code",
    "id": "w60Q875Nr8BZ"
   },
   "outputs": [],
   "source": [
    "#Ditt svar"
   ]
  }
 ],
 "metadata": {
  "colab": {
   "collapsed_sections": [],
   "name": "Øving 6 Halveringsmetoden.ipynb",
   "provenance": [
    {
     "file_id": "1Qg74mN1p-jDyvf7oucBiEwD0nhbAV6hh",
     "timestamp": 1589538265066
    }
   ]
  },
  "kernelspec": {
   "display_name": "Python 3",
   "language": "python",
   "name": "python3"
  },
  "language_info": {
   "codemirror_mode": {
    "name": "ipython",
    "version": 3
   },
   "file_extension": ".py",
   "mimetype": "text/x-python",
   "name": "python",
   "nbconvert_exporter": "python",
   "pygments_lexer": "ipython3",
   "version": "3.8.3"
  }
 },
 "nbformat": 4,
 "nbformat_minor": 1
}
